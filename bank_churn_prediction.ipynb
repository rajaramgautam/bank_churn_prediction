{
 "cells": [
  {
   "cell_type": "code",
   "execution_count": 1,
   "id": "47fa61e9",
   "metadata": {},
   "outputs": [],
   "source": [
    "import pandas as pd\n",
    "import numpy as np\n",
    "\n",
    "import matplotlib.pyplot as plt\n",
    "import seaborn as sns\n",
    "\n",
    "import warnings\n",
    "warnings.simplefilter(action='ignore')\n"
   ]
  },
  {
   "cell_type": "markdown",
   "id": "f6e81960",
   "metadata": {},
   "source": [
    "# Introduction"
   ]
  },
  {
   "cell_type": "markdown",
   "id": "5a546022",
   "metadata": {},
   "source": [
    "We aim to accomplish the following for this study:\n",
    "1. Identify and visualize which factors contribute to customer churn:\n",
    "2. Build a prediction model that will perform the following:\n",
    "    - Classify if a customer is going to churn or not\n",
    "    - Preferably and based on the model performance, choose a model that will attach a probability to the churn to \n",
    "    make it easier for customer service to target low hanging fruits in their efforts to orevent churn"
   ]
  },
  {
   "cell_type": "markdown",
   "id": "9a4a22ac",
   "metadata": {},
   "source": [
    "### Acquire"
   ]
  },
  {
   "cell_type": "code",
   "execution_count": 2,
   "id": "81c5c9bf",
   "metadata": {},
   "outputs": [],
   "source": [
    "# pandas reading csv and making dataframe out of it\n",
    "bank_df = pd.read_csv('Churn_Modelling.csv')"
   ]
  },
  {
   "cell_type": "code",
   "execution_count": 3,
   "id": "da2aae99",
   "metadata": {},
   "outputs": [
    {
     "data": {
      "text/html": [
       "<div>\n",
       "<style scoped>\n",
       "    .dataframe tbody tr th:only-of-type {\n",
       "        vertical-align: middle;\n",
       "    }\n",
       "\n",
       "    .dataframe tbody tr th {\n",
       "        vertical-align: top;\n",
       "    }\n",
       "\n",
       "    .dataframe thead th {\n",
       "        text-align: right;\n",
       "    }\n",
       "</style>\n",
       "<table border=\"1\" class=\"dataframe\">\n",
       "  <thead>\n",
       "    <tr style=\"text-align: right;\">\n",
       "      <th></th>\n",
       "      <th>RowNumber</th>\n",
       "      <th>CustomerId</th>\n",
       "      <th>Surname</th>\n",
       "      <th>CreditScore</th>\n",
       "      <th>Geography</th>\n",
       "      <th>Gender</th>\n",
       "      <th>Age</th>\n",
       "      <th>Tenure</th>\n",
       "      <th>Balance</th>\n",
       "      <th>NumOfProducts</th>\n",
       "      <th>HasCrCard</th>\n",
       "      <th>IsActiveMember</th>\n",
       "      <th>EstimatedSalary</th>\n",
       "      <th>Exited</th>\n",
       "    </tr>\n",
       "  </thead>\n",
       "  <tbody>\n",
       "    <tr>\n",
       "      <th>0</th>\n",
       "      <td>1</td>\n",
       "      <td>15634602</td>\n",
       "      <td>Hargrave</td>\n",
       "      <td>619</td>\n",
       "      <td>France</td>\n",
       "      <td>Female</td>\n",
       "      <td>42</td>\n",
       "      <td>2</td>\n",
       "      <td>0.00</td>\n",
       "      <td>1</td>\n",
       "      <td>1</td>\n",
       "      <td>1</td>\n",
       "      <td>101348.88</td>\n",
       "      <td>1</td>\n",
       "    </tr>\n",
       "    <tr>\n",
       "      <th>1</th>\n",
       "      <td>2</td>\n",
       "      <td>15647311</td>\n",
       "      <td>Hill</td>\n",
       "      <td>608</td>\n",
       "      <td>Spain</td>\n",
       "      <td>Female</td>\n",
       "      <td>41</td>\n",
       "      <td>1</td>\n",
       "      <td>83807.86</td>\n",
       "      <td>1</td>\n",
       "      <td>0</td>\n",
       "      <td>1</td>\n",
       "      <td>112542.58</td>\n",
       "      <td>0</td>\n",
       "    </tr>\n",
       "    <tr>\n",
       "      <th>2</th>\n",
       "      <td>3</td>\n",
       "      <td>15619304</td>\n",
       "      <td>Onio</td>\n",
       "      <td>502</td>\n",
       "      <td>France</td>\n",
       "      <td>Female</td>\n",
       "      <td>42</td>\n",
       "      <td>8</td>\n",
       "      <td>159660.80</td>\n",
       "      <td>3</td>\n",
       "      <td>1</td>\n",
       "      <td>0</td>\n",
       "      <td>113931.57</td>\n",
       "      <td>1</td>\n",
       "    </tr>\n",
       "    <tr>\n",
       "      <th>3</th>\n",
       "      <td>4</td>\n",
       "      <td>15701354</td>\n",
       "      <td>Boni</td>\n",
       "      <td>699</td>\n",
       "      <td>France</td>\n",
       "      <td>Female</td>\n",
       "      <td>39</td>\n",
       "      <td>1</td>\n",
       "      <td>0.00</td>\n",
       "      <td>2</td>\n",
       "      <td>0</td>\n",
       "      <td>0</td>\n",
       "      <td>93826.63</td>\n",
       "      <td>0</td>\n",
       "    </tr>\n",
       "    <tr>\n",
       "      <th>4</th>\n",
       "      <td>5</td>\n",
       "      <td>15737888</td>\n",
       "      <td>Mitchell</td>\n",
       "      <td>850</td>\n",
       "      <td>Spain</td>\n",
       "      <td>Female</td>\n",
       "      <td>43</td>\n",
       "      <td>2</td>\n",
       "      <td>125510.82</td>\n",
       "      <td>1</td>\n",
       "      <td>1</td>\n",
       "      <td>1</td>\n",
       "      <td>79084.10</td>\n",
       "      <td>0</td>\n",
       "    </tr>\n",
       "  </tbody>\n",
       "</table>\n",
       "</div>"
      ],
      "text/plain": [
       "   RowNumber  CustomerId   Surname  CreditScore Geography  Gender  Age  \\\n",
       "0          1    15634602  Hargrave          619    France  Female   42   \n",
       "1          2    15647311      Hill          608     Spain  Female   41   \n",
       "2          3    15619304      Onio          502    France  Female   42   \n",
       "3          4    15701354      Boni          699    France  Female   39   \n",
       "4          5    15737888  Mitchell          850     Spain  Female   43   \n",
       "\n",
       "   Tenure    Balance  NumOfProducts  HasCrCard  IsActiveMember  \\\n",
       "0       2       0.00              1          1               1   \n",
       "1       1   83807.86              1          0               1   \n",
       "2       8  159660.80              3          1               0   \n",
       "3       1       0.00              2          0               0   \n",
       "4       2  125510.82              1          1               1   \n",
       "\n",
       "   EstimatedSalary  Exited  \n",
       "0        101348.88       1  \n",
       "1        112542.58       0  \n",
       "2        113931.57       1  \n",
       "3         93826.63       0  \n",
       "4         79084.10       0  "
      ]
     },
     "execution_count": 3,
     "metadata": {},
     "output_type": "execute_result"
    }
   ],
   "source": [
    "bank_df.head()"
   ]
  },
  {
   "cell_type": "code",
   "execution_count": 4,
   "id": "31387450",
   "metadata": {},
   "outputs": [
    {
     "name": "stdout",
     "output_type": "stream",
     "text": [
      "<class 'pandas.core.frame.DataFrame'>\n",
      "RangeIndex: 10000 entries, 0 to 9999\n",
      "Data columns (total 14 columns):\n",
      " #   Column           Non-Null Count  Dtype  \n",
      "---  ------           --------------  -----  \n",
      " 0   RowNumber        10000 non-null  int64  \n",
      " 1   CustomerId       10000 non-null  int64  \n",
      " 2   Surname          10000 non-null  object \n",
      " 3   CreditScore      10000 non-null  int64  \n",
      " 4   Geography        10000 non-null  object \n",
      " 5   Gender           10000 non-null  object \n",
      " 6   Age              10000 non-null  int64  \n",
      " 7   Tenure           10000 non-null  int64  \n",
      " 8   Balance          10000 non-null  float64\n",
      " 9   NumOfProducts    10000 non-null  int64  \n",
      " 10  HasCrCard        10000 non-null  int64  \n",
      " 11  IsActiveMember   10000 non-null  int64  \n",
      " 12  EstimatedSalary  10000 non-null  float64\n",
      " 13  Exited           10000 non-null  int64  \n",
      "dtypes: float64(2), int64(9), object(3)\n",
      "memory usage: 1.1+ MB\n"
     ]
    }
   ],
   "source": [
    "bank_df.info()"
   ]
  },
  {
   "cell_type": "code",
   "execution_count": 5,
   "id": "95d9008b",
   "metadata": {},
   "outputs": [
    {
     "data": {
      "text/html": [
       "<div>\n",
       "<style scoped>\n",
       "    .dataframe tbody tr th:only-of-type {\n",
       "        vertical-align: middle;\n",
       "    }\n",
       "\n",
       "    .dataframe tbody tr th {\n",
       "        vertical-align: top;\n",
       "    }\n",
       "\n",
       "    .dataframe thead th {\n",
       "        text-align: right;\n",
       "    }\n",
       "</style>\n",
       "<table border=\"1\" class=\"dataframe\">\n",
       "  <thead>\n",
       "    <tr style=\"text-align: right;\">\n",
       "      <th></th>\n",
       "      <th>RowNumber</th>\n",
       "      <th>CustomerId</th>\n",
       "      <th>CreditScore</th>\n",
       "      <th>Age</th>\n",
       "      <th>Tenure</th>\n",
       "      <th>Balance</th>\n",
       "      <th>NumOfProducts</th>\n",
       "      <th>HasCrCard</th>\n",
       "      <th>IsActiveMember</th>\n",
       "      <th>EstimatedSalary</th>\n",
       "      <th>Exited</th>\n",
       "    </tr>\n",
       "  </thead>\n",
       "  <tbody>\n",
       "    <tr>\n",
       "      <th>count</th>\n",
       "      <td>10000.00000</td>\n",
       "      <td>1.000000e+04</td>\n",
       "      <td>10000.000000</td>\n",
       "      <td>10000.000000</td>\n",
       "      <td>10000.000000</td>\n",
       "      <td>10000.000000</td>\n",
       "      <td>10000.000000</td>\n",
       "      <td>10000.00000</td>\n",
       "      <td>10000.000000</td>\n",
       "      <td>10000.000000</td>\n",
       "      <td>10000.000000</td>\n",
       "    </tr>\n",
       "    <tr>\n",
       "      <th>mean</th>\n",
       "      <td>5000.50000</td>\n",
       "      <td>1.569094e+07</td>\n",
       "      <td>650.528800</td>\n",
       "      <td>38.921800</td>\n",
       "      <td>5.012800</td>\n",
       "      <td>76485.889288</td>\n",
       "      <td>1.530200</td>\n",
       "      <td>0.70550</td>\n",
       "      <td>0.515100</td>\n",
       "      <td>100090.239881</td>\n",
       "      <td>0.203700</td>\n",
       "    </tr>\n",
       "    <tr>\n",
       "      <th>std</th>\n",
       "      <td>2886.89568</td>\n",
       "      <td>7.193619e+04</td>\n",
       "      <td>96.653299</td>\n",
       "      <td>10.487806</td>\n",
       "      <td>2.892174</td>\n",
       "      <td>62397.405202</td>\n",
       "      <td>0.581654</td>\n",
       "      <td>0.45584</td>\n",
       "      <td>0.499797</td>\n",
       "      <td>57510.492818</td>\n",
       "      <td>0.402769</td>\n",
       "    </tr>\n",
       "    <tr>\n",
       "      <th>min</th>\n",
       "      <td>1.00000</td>\n",
       "      <td>1.556570e+07</td>\n",
       "      <td>350.000000</td>\n",
       "      <td>18.000000</td>\n",
       "      <td>0.000000</td>\n",
       "      <td>0.000000</td>\n",
       "      <td>1.000000</td>\n",
       "      <td>0.00000</td>\n",
       "      <td>0.000000</td>\n",
       "      <td>11.580000</td>\n",
       "      <td>0.000000</td>\n",
       "    </tr>\n",
       "    <tr>\n",
       "      <th>25%</th>\n",
       "      <td>2500.75000</td>\n",
       "      <td>1.562853e+07</td>\n",
       "      <td>584.000000</td>\n",
       "      <td>32.000000</td>\n",
       "      <td>3.000000</td>\n",
       "      <td>0.000000</td>\n",
       "      <td>1.000000</td>\n",
       "      <td>0.00000</td>\n",
       "      <td>0.000000</td>\n",
       "      <td>51002.110000</td>\n",
       "      <td>0.000000</td>\n",
       "    </tr>\n",
       "    <tr>\n",
       "      <th>50%</th>\n",
       "      <td>5000.50000</td>\n",
       "      <td>1.569074e+07</td>\n",
       "      <td>652.000000</td>\n",
       "      <td>37.000000</td>\n",
       "      <td>5.000000</td>\n",
       "      <td>97198.540000</td>\n",
       "      <td>1.000000</td>\n",
       "      <td>1.00000</td>\n",
       "      <td>1.000000</td>\n",
       "      <td>100193.915000</td>\n",
       "      <td>0.000000</td>\n",
       "    </tr>\n",
       "    <tr>\n",
       "      <th>75%</th>\n",
       "      <td>7500.25000</td>\n",
       "      <td>1.575323e+07</td>\n",
       "      <td>718.000000</td>\n",
       "      <td>44.000000</td>\n",
       "      <td>7.000000</td>\n",
       "      <td>127644.240000</td>\n",
       "      <td>2.000000</td>\n",
       "      <td>1.00000</td>\n",
       "      <td>1.000000</td>\n",
       "      <td>149388.247500</td>\n",
       "      <td>0.000000</td>\n",
       "    </tr>\n",
       "    <tr>\n",
       "      <th>max</th>\n",
       "      <td>10000.00000</td>\n",
       "      <td>1.581569e+07</td>\n",
       "      <td>850.000000</td>\n",
       "      <td>92.000000</td>\n",
       "      <td>10.000000</td>\n",
       "      <td>250898.090000</td>\n",
       "      <td>4.000000</td>\n",
       "      <td>1.00000</td>\n",
       "      <td>1.000000</td>\n",
       "      <td>199992.480000</td>\n",
       "      <td>1.000000</td>\n",
       "    </tr>\n",
       "  </tbody>\n",
       "</table>\n",
       "</div>"
      ],
      "text/plain": [
       "         RowNumber    CustomerId   CreditScore           Age        Tenure  \\\n",
       "count  10000.00000  1.000000e+04  10000.000000  10000.000000  10000.000000   \n",
       "mean    5000.50000  1.569094e+07    650.528800     38.921800      5.012800   \n",
       "std     2886.89568  7.193619e+04     96.653299     10.487806      2.892174   \n",
       "min        1.00000  1.556570e+07    350.000000     18.000000      0.000000   \n",
       "25%     2500.75000  1.562853e+07    584.000000     32.000000      3.000000   \n",
       "50%     5000.50000  1.569074e+07    652.000000     37.000000      5.000000   \n",
       "75%     7500.25000  1.575323e+07    718.000000     44.000000      7.000000   \n",
       "max    10000.00000  1.581569e+07    850.000000     92.000000     10.000000   \n",
       "\n",
       "             Balance  NumOfProducts    HasCrCard  IsActiveMember  \\\n",
       "count   10000.000000   10000.000000  10000.00000    10000.000000   \n",
       "mean    76485.889288       1.530200      0.70550        0.515100   \n",
       "std     62397.405202       0.581654      0.45584        0.499797   \n",
       "min         0.000000       1.000000      0.00000        0.000000   \n",
       "25%         0.000000       1.000000      0.00000        0.000000   \n",
       "50%     97198.540000       1.000000      1.00000        1.000000   \n",
       "75%    127644.240000       2.000000      1.00000        1.000000   \n",
       "max    250898.090000       4.000000      1.00000        1.000000   \n",
       "\n",
       "       EstimatedSalary        Exited  \n",
       "count     10000.000000  10000.000000  \n",
       "mean     100090.239881      0.203700  \n",
       "std       57510.492818      0.402769  \n",
       "min          11.580000      0.000000  \n",
       "25%       51002.110000      0.000000  \n",
       "50%      100193.915000      0.000000  \n",
       "75%      149388.247500      0.000000  \n",
       "max      199992.480000      1.000000  "
      ]
     },
     "execution_count": 5,
     "metadata": {},
     "output_type": "execute_result"
    }
   ],
   "source": [
    "bank_df.describe()"
   ]
  },
  {
   "cell_type": "markdown",
   "id": "c453557f",
   "metadata": {},
   "source": [
    "### Prepare"
   ]
  },
  {
   "cell_type": "code",
   "execution_count": 6,
   "id": "daef57df",
   "metadata": {},
   "outputs": [
    {
     "data": {
      "text/plain": [
       "RowNumber          0\n",
       "CustomerId         0\n",
       "Surname            0\n",
       "CreditScore        0\n",
       "Geography          0\n",
       "Gender             0\n",
       "Age                0\n",
       "Tenure             0\n",
       "Balance            0\n",
       "NumOfProducts      0\n",
       "HasCrCard          0\n",
       "IsActiveMember     0\n",
       "EstimatedSalary    0\n",
       "Exited             0\n",
       "dtype: int64"
      ]
     },
     "execution_count": 6,
     "metadata": {},
     "output_type": "execute_result"
    }
   ],
   "source": [
    "# to get sum of nulls in each column\n",
    "bank_df.isna().sum()"
   ]
  },
  {
   "cell_type": "code",
   "execution_count": 7,
   "id": "8bb58eec",
   "metadata": {},
   "outputs": [
    {
     "data": {
      "text/plain": [
       "RowNumber          10000\n",
       "CustomerId         10000\n",
       "Surname             2932\n",
       "CreditScore          460\n",
       "Geography              3\n",
       "Gender                 2\n",
       "Age                   70\n",
       "Tenure                11\n",
       "Balance             6382\n",
       "NumOfProducts          4\n",
       "HasCrCard              2\n",
       "IsActiveMember         2\n",
       "EstimatedSalary     9999\n",
       "Exited                 2\n",
       "dtype: int64"
      ]
     },
     "execution_count": 7,
     "metadata": {},
     "output_type": "execute_result"
    }
   ],
   "source": [
    "# to get unique values in each columns in bank_df\n",
    "bank_df.nunique()"
   ]
  },
  {
   "cell_type": "code",
   "execution_count": 8,
   "id": "f34365d2",
   "metadata": {},
   "outputs": [],
   "source": [
    "# for customer churn for bank has nothing to do with RowNumber, CustomerId and Surname\n",
    "# so let us drop those columns\n",
    "bank_df = bank_df.drop(columns = ['RowNumber', 'CustomerId', 'Surname'])"
   ]
  },
  {
   "cell_type": "code",
   "execution_count": 9,
   "id": "ab65ebe8",
   "metadata": {},
   "outputs": [
    {
     "name": "stdout",
     "output_type": "stream",
     "text": [
      "<class 'pandas.core.frame.DataFrame'>\n",
      "RangeIndex: 10000 entries, 0 to 9999\n",
      "Data columns (total 11 columns):\n",
      " #   Column           Non-Null Count  Dtype  \n",
      "---  ------           --------------  -----  \n",
      " 0   CreditScore      10000 non-null  int64  \n",
      " 1   Geography        10000 non-null  object \n",
      " 2   Gender           10000 non-null  object \n",
      " 3   Age              10000 non-null  int64  \n",
      " 4   Tenure           10000 non-null  int64  \n",
      " 5   Balance          10000 non-null  float64\n",
      " 6   NumOfProducts    10000 non-null  int64  \n",
      " 7   HasCrCard        10000 non-null  int64  \n",
      " 8   IsActiveMember   10000 non-null  int64  \n",
      " 9   EstimatedSalary  10000 non-null  float64\n",
      " 10  Exited           10000 non-null  int64  \n",
      "dtypes: float64(2), int64(7), object(2)\n",
      "memory usage: 859.5+ KB\n"
     ]
    }
   ],
   "source": [
    "bank_df.info()"
   ]
  },
  {
   "cell_type": "code",
   "execution_count": 10,
   "id": "bec54567",
   "metadata": {},
   "outputs": [
    {
     "data": {
      "text/plain": [
       "array([1, 0])"
      ]
     },
     "execution_count": 10,
     "metadata": {},
     "output_type": "execute_result"
    }
   ],
   "source": [
    "# seeing the distinct values in a given columns\n",
    "bank_df.Exited.unique()"
   ]
  },
  {
   "cell_type": "code",
   "execution_count": 11,
   "id": "da3602ee",
   "metadata": {},
   "outputs": [
    {
     "data": {
      "text/plain": [
       "array([619, 608, 502, 699, 850, 645, 822, 376, 501, 684, 528, 497, 476,\n",
       "       549, 635, 616, 653, 587, 726, 732, 636, 510, 669, 846, 577, 756,\n",
       "       571, 574, 411, 591, 533, 553, 520, 722, 475, 490, 804, 582, 472,\n",
       "       465, 556, 834, 660, 776, 829, 637, 550, 698, 585, 788, 655, 601,\n",
       "       656, 725, 511, 614, 742, 687, 555, 603, 751, 581, 735, 661, 675,\n",
       "       738, 813, 657, 604, 519, 664, 678, 757, 416, 665, 777, 543, 506,\n",
       "       493, 652, 750, 729, 646, 647, 808, 524, 769, 730, 515, 773, 814,\n",
       "       710, 413, 623, 670, 622, 785, 605, 479, 685, 538, 562, 721, 628,\n",
       "       668, 828, 674, 625, 432, 770, 758, 795, 686, 789, 589, 461, 584,\n",
       "       579, 663, 682, 793, 691, 485, 650, 754, 535, 716, 539, 706, 586,\n",
       "       631, 717, 800, 683, 704, 615, 667, 484, 480, 578, 512, 606, 597,\n",
       "       778, 514, 525, 715, 580, 807, 521, 759, 516, 711, 618, 643, 671,\n",
       "       689, 620, 676, 572, 695, 592, 567, 694, 547, 594, 673, 610, 767,\n",
       "       763, 712, 703, 662, 659, 523, 772, 545, 634, 739, 771, 681, 544,\n",
       "       696, 766, 727, 693, 557, 531, 498, 651, 791, 733, 811, 707, 714,\n",
       "       782, 775, 799, 602, 744, 588, 747, 583, 627, 731, 629, 438, 642,\n",
       "       806, 474, 559, 429, 680, 749, 734, 644, 626, 649, 805, 718, 840,\n",
       "       630, 654, 762, 568, 613, 522, 737, 648, 443, 640, 540, 460, 593,\n",
       "       801, 611, 802, 745, 483, 690, 492, 709, 705, 560, 752, 701, 537,\n",
       "       487, 596, 702, 486, 724, 548, 464, 790, 534, 748, 494, 590, 468,\n",
       "       509, 818, 816, 536, 753, 774, 621, 569, 658, 798, 641, 542, 692,\n",
       "       639, 765, 570, 638, 599, 632, 779, 527, 564, 833, 504, 842, 508,\n",
       "       417, 598, 741, 607, 761, 848, 546, 439, 755, 760, 526, 713, 700,\n",
       "       666, 566, 495, 688, 612, 477, 427, 839, 819, 720, 459, 503, 624,\n",
       "       529, 563, 482, 796, 445, 746, 786, 554, 672, 787, 499, 844, 450,\n",
       "       815, 838, 803, 736, 633, 600, 679, 517, 792, 743, 488, 421, 841,\n",
       "       708, 507, 505, 456, 435, 561, 518, 565, 728, 784, 552, 609, 764,\n",
       "       697, 723, 551, 444, 719, 496, 541, 830, 812, 677, 420, 595, 617,\n",
       "       809, 500, 826, 434, 513, 478, 797, 363, 399, 463, 780, 452, 575,\n",
       "       837, 794, 824, 428, 823, 781, 849, 489, 431, 457, 768, 831, 359,\n",
       "       820, 573, 576, 558, 817, 449, 440, 415, 821, 530, 350, 446, 425,\n",
       "       740, 481, 783, 358, 845, 451, 458, 469, 423, 404, 836, 473, 835,\n",
       "       466, 491, 351, 827, 843, 365, 532, 414, 453, 471, 401, 810, 832,\n",
       "       470, 447, 422, 825, 430, 436, 426, 408, 847, 418, 437, 410, 454,\n",
       "       407, 455, 462, 386, 405, 383, 395, 467, 433, 442, 424, 448, 441,\n",
       "       367, 412, 382, 373, 419])"
      ]
     },
     "execution_count": 11,
     "metadata": {},
     "output_type": "execute_result"
    }
   ],
   "source": [
    "bank_df.CreditScore.unique()"
   ]
  },
  {
   "cell_type": "code",
   "execution_count": 12,
   "id": "4638b5c0",
   "metadata": {},
   "outputs": [],
   "source": [
    "# converting the columns to lower case\n",
    "bank_df.columns = bank_df.columns.str.lower()"
   ]
  },
  {
   "cell_type": "code",
   "execution_count": 13,
   "id": "63ecc6c5",
   "metadata": {},
   "outputs": [
    {
     "data": {
      "text/html": [
       "<div>\n",
       "<style scoped>\n",
       "    .dataframe tbody tr th:only-of-type {\n",
       "        vertical-align: middle;\n",
       "    }\n",
       "\n",
       "    .dataframe tbody tr th {\n",
       "        vertical-align: top;\n",
       "    }\n",
       "\n",
       "    .dataframe thead th {\n",
       "        text-align: right;\n",
       "    }\n",
       "</style>\n",
       "<table border=\"1\" class=\"dataframe\">\n",
       "  <thead>\n",
       "    <tr style=\"text-align: right;\">\n",
       "      <th></th>\n",
       "      <th>creditscore</th>\n",
       "      <th>geography</th>\n",
       "      <th>gender</th>\n",
       "      <th>age</th>\n",
       "      <th>tenure</th>\n",
       "      <th>balance</th>\n",
       "      <th>numofproducts</th>\n",
       "      <th>hascrcard</th>\n",
       "      <th>isactivemember</th>\n",
       "      <th>estimatedsalary</th>\n",
       "      <th>exited</th>\n",
       "    </tr>\n",
       "  </thead>\n",
       "  <tbody>\n",
       "    <tr>\n",
       "      <th>0</th>\n",
       "      <td>619</td>\n",
       "      <td>France</td>\n",
       "      <td>Female</td>\n",
       "      <td>42</td>\n",
       "      <td>2</td>\n",
       "      <td>0.00</td>\n",
       "      <td>1</td>\n",
       "      <td>1</td>\n",
       "      <td>1</td>\n",
       "      <td>101348.88</td>\n",
       "      <td>1</td>\n",
       "    </tr>\n",
       "    <tr>\n",
       "      <th>1</th>\n",
       "      <td>608</td>\n",
       "      <td>Spain</td>\n",
       "      <td>Female</td>\n",
       "      <td>41</td>\n",
       "      <td>1</td>\n",
       "      <td>83807.86</td>\n",
       "      <td>1</td>\n",
       "      <td>0</td>\n",
       "      <td>1</td>\n",
       "      <td>112542.58</td>\n",
       "      <td>0</td>\n",
       "    </tr>\n",
       "    <tr>\n",
       "      <th>2</th>\n",
       "      <td>502</td>\n",
       "      <td>France</td>\n",
       "      <td>Female</td>\n",
       "      <td>42</td>\n",
       "      <td>8</td>\n",
       "      <td>159660.80</td>\n",
       "      <td>3</td>\n",
       "      <td>1</td>\n",
       "      <td>0</td>\n",
       "      <td>113931.57</td>\n",
       "      <td>1</td>\n",
       "    </tr>\n",
       "    <tr>\n",
       "      <th>3</th>\n",
       "      <td>699</td>\n",
       "      <td>France</td>\n",
       "      <td>Female</td>\n",
       "      <td>39</td>\n",
       "      <td>1</td>\n",
       "      <td>0.00</td>\n",
       "      <td>2</td>\n",
       "      <td>0</td>\n",
       "      <td>0</td>\n",
       "      <td>93826.63</td>\n",
       "      <td>0</td>\n",
       "    </tr>\n",
       "    <tr>\n",
       "      <th>4</th>\n",
       "      <td>850</td>\n",
       "      <td>Spain</td>\n",
       "      <td>Female</td>\n",
       "      <td>43</td>\n",
       "      <td>2</td>\n",
       "      <td>125510.82</td>\n",
       "      <td>1</td>\n",
       "      <td>1</td>\n",
       "      <td>1</td>\n",
       "      <td>79084.10</td>\n",
       "      <td>0</td>\n",
       "    </tr>\n",
       "    <tr>\n",
       "      <th>...</th>\n",
       "      <td>...</td>\n",
       "      <td>...</td>\n",
       "      <td>...</td>\n",
       "      <td>...</td>\n",
       "      <td>...</td>\n",
       "      <td>...</td>\n",
       "      <td>...</td>\n",
       "      <td>...</td>\n",
       "      <td>...</td>\n",
       "      <td>...</td>\n",
       "      <td>...</td>\n",
       "    </tr>\n",
       "    <tr>\n",
       "      <th>9995</th>\n",
       "      <td>771</td>\n",
       "      <td>France</td>\n",
       "      <td>Male</td>\n",
       "      <td>39</td>\n",
       "      <td>5</td>\n",
       "      <td>0.00</td>\n",
       "      <td>2</td>\n",
       "      <td>1</td>\n",
       "      <td>0</td>\n",
       "      <td>96270.64</td>\n",
       "      <td>0</td>\n",
       "    </tr>\n",
       "    <tr>\n",
       "      <th>9996</th>\n",
       "      <td>516</td>\n",
       "      <td>France</td>\n",
       "      <td>Male</td>\n",
       "      <td>35</td>\n",
       "      <td>10</td>\n",
       "      <td>57369.61</td>\n",
       "      <td>1</td>\n",
       "      <td>1</td>\n",
       "      <td>1</td>\n",
       "      <td>101699.77</td>\n",
       "      <td>0</td>\n",
       "    </tr>\n",
       "    <tr>\n",
       "      <th>9997</th>\n",
       "      <td>709</td>\n",
       "      <td>France</td>\n",
       "      <td>Female</td>\n",
       "      <td>36</td>\n",
       "      <td>7</td>\n",
       "      <td>0.00</td>\n",
       "      <td>1</td>\n",
       "      <td>0</td>\n",
       "      <td>1</td>\n",
       "      <td>42085.58</td>\n",
       "      <td>1</td>\n",
       "    </tr>\n",
       "    <tr>\n",
       "      <th>9998</th>\n",
       "      <td>772</td>\n",
       "      <td>Germany</td>\n",
       "      <td>Male</td>\n",
       "      <td>42</td>\n",
       "      <td>3</td>\n",
       "      <td>75075.31</td>\n",
       "      <td>2</td>\n",
       "      <td>1</td>\n",
       "      <td>0</td>\n",
       "      <td>92888.52</td>\n",
       "      <td>1</td>\n",
       "    </tr>\n",
       "    <tr>\n",
       "      <th>9999</th>\n",
       "      <td>792</td>\n",
       "      <td>France</td>\n",
       "      <td>Female</td>\n",
       "      <td>28</td>\n",
       "      <td>4</td>\n",
       "      <td>130142.79</td>\n",
       "      <td>1</td>\n",
       "      <td>1</td>\n",
       "      <td>0</td>\n",
       "      <td>38190.78</td>\n",
       "      <td>0</td>\n",
       "    </tr>\n",
       "  </tbody>\n",
       "</table>\n",
       "<p>10000 rows × 11 columns</p>\n",
       "</div>"
      ],
      "text/plain": [
       "      creditscore geography  gender  age  tenure    balance  numofproducts  \\\n",
       "0             619    France  Female   42       2       0.00              1   \n",
       "1             608     Spain  Female   41       1   83807.86              1   \n",
       "2             502    France  Female   42       8  159660.80              3   \n",
       "3             699    France  Female   39       1       0.00              2   \n",
       "4             850     Spain  Female   43       2  125510.82              1   \n",
       "...           ...       ...     ...  ...     ...        ...            ...   \n",
       "9995          771    France    Male   39       5       0.00              2   \n",
       "9996          516    France    Male   35      10   57369.61              1   \n",
       "9997          709    France  Female   36       7       0.00              1   \n",
       "9998          772   Germany    Male   42       3   75075.31              2   \n",
       "9999          792    France  Female   28       4  130142.79              1   \n",
       "\n",
       "      hascrcard  isactivemember  estimatedsalary  exited  \n",
       "0             1               1        101348.88       1  \n",
       "1             0               1        112542.58       0  \n",
       "2             1               0        113931.57       1  \n",
       "3             0               0         93826.63       0  \n",
       "4             1               1         79084.10       0  \n",
       "...         ...             ...              ...     ...  \n",
       "9995          1               0         96270.64       0  \n",
       "9996          1               1        101699.77       0  \n",
       "9997          0               1         42085.58       1  \n",
       "9998          1               0         92888.52       1  \n",
       "9999          1               0         38190.78       0  \n",
       "\n",
       "[10000 rows x 11 columns]"
      ]
     },
     "execution_count": 13,
     "metadata": {},
     "output_type": "execute_result"
    }
   ],
   "source": [
    "bank_df"
   ]
  },
  {
   "cell_type": "markdown",
   "id": "4b986952",
   "metadata": {},
   "source": [
    "# Exploratory Data Analysis"
   ]
  },
  {
   "cell_type": "markdown",
   "id": "c7c2f062",
   "metadata": {},
   "source": [
    "Here our main interest is to get an understanding as to how the given attributes relate to the \"EXIT\" status."
   ]
  },
  {
   "cell_type": "code",
   "execution_count": 28,
   "id": "b33cafa1",
   "metadata": {},
   "outputs": [
    {
     "data": {
      "image/png": "[encoded data removed]",
      "text/plain": [
       "<Figure size 720x576 with 1 Axes>"
      ]
     },
     "metadata": {},
     "output_type": "display_data"
    }
   ],
   "source": [
    "# Pie Chart, where the slices will be ordered and plotted counter-clockwise:\n",
    "labels = \"Exited\", \"Not Exited\"\n",
    "sizes = [bank_df.exited[bank_df['exited'] == 1].count(), bank_df.exited[bank_df['exited'] == 0].count()]\n",
    "explode = (0, 0.1) # only \"explode\" the 2nd slice\n",
    "fig1, ax1 = plt.subplots(figsize = (10, 8))\n",
    "ax1.pie(sizes, explode = explode, labels = labels, autopct = '%1.1f%%', shadow = True, startangle = 90)\n",
    "ax1.axis('equal') # Equal aspect ratio ensures that pie is drawn as a circle.\n",
    "plt.title(\"Percentage of Exited VS Not Exited\")\n",
    "plt.show()"
   ]
  },
  {
   "cell_type": "markdown",
   "id": "b4f51a53",
   "metadata": {},
   "source": [
    "It looks like 20% of customers have churned. So the baseline model could be to predict that 20% of the customers will churn."
   ]
  },
  {
   "cell_type": "markdown",
   "id": "2a64b3e3",
   "metadata": {},
   "source": [
    "### countplot : Best for Categorical Data"
   ]
  },
  {
   "cell_type": "markdown",
   "id": "63b75749",
   "metadata": {},
   "source": [
    "We first review the status relationship with categorial variables"
   ]
  },
  {
   "cell_type": "code",
   "execution_count": 31,
   "id": "9ae5a4ae",
   "metadata": {},
   "outputs": [
    {
     "data": {
      "text/plain": [
       "<AxesSubplot:xlabel='isactivemember', ylabel='count'>"
      ]
     },
     "execution_count": 31,
     "metadata": {},
     "output_type": "execute_result"
    },
    {
     "data": {
      "image/png": "[encoded data removed]",
      "text/plain": [
       "<Figure size 1440x864 with 4 Axes>"
      ]
     },
     "metadata": {
      "needs_background": "light"
     },
     "output_type": "display_data"
    }
   ],
   "source": [
    "fig, axarr = plt.subplots(2, 2, figsize = (20, 12))\n",
    "sns.countplot(x = 'geography', hue = 'exited', data = bank_df, ax = axarr[0][0])\n",
    "sns.countplot(x = 'gender', hue = 'exited', data = bank_df, ax = axarr[0][1])\n",
    "sns.countplot(x = 'hascrcard', hue = 'exited', data = bank_df, ax = axarr[1][0])\n",
    "sns.countplot(x = 'isactivemember', hue = 'exited', data = bank_df, ax = axarr[1][1])"
   ]
  },
  {
   "cell_type": "markdown",
   "id": "255aefa7",
   "metadata": {},
   "source": [
    "##### Findings\n",
    "1. Customers from France and Germany has more churn.\n",
    "2. Female customer churn is more than male.\n",
    "3. Customers with credit card has more churn.\n",
    "4. Customers with hascredit card has more churn.\n"
   ]
  },
  {
   "cell_type": "markdown",
   "id": "6f27f2af",
   "metadata": {},
   "source": [
    "# boxplot : Continuous Data"
   ]
  },
  {
   "cell_type": "code",
   "execution_count": 34,
   "id": "0b1ba9ea",
   "metadata": {},
   "outputs": [
    {
     "data": {
      "image/png": "[encoded data removed]",
      "text/plain": [
       "<Figure size 1440x864 with 6 Axes>"
      ]
     },
     "metadata": {
      "needs_background": "light"
     },
     "output_type": "display_data"
    }
   ],
   "source": [
    "# Relations based on the continuous data attributes\n",
    "fig, axarr = plt.subplots(3, 2, figsize =(20, 12))\n",
    "\n",
    "sns.boxplot(y = 'creditscore', x = 'exited', hue = 'exited', data = bank_df, ax = axarr[0][0])\n",
    "sns.boxplot(y = 'age', x = 'exited', hue = 'exited', data = bank_df, ax = axarr[0][1])\n",
    "sns.boxplot(y = 'tenure', x = 'exited', hue = 'exited', data = bank_df, ax = axarr[1][0])\n",
    "sns.boxplot(y = 'balance', x = 'exited', hue = 'exited', data = bank_df, ax = axarr[1][1])\n",
    "sns.boxplot(y = 'numofproducts', x = 'exited', hue = 'exited', data = bank_df, ax = axarr[2][0])\n",
    "sns.boxplot(y = 'estimatedsalary', x = 'exited', hue = 'exited', data = bank_df, ax = axarr[2][1])\n",
    "plt.show()"
   ]
  },
  {
   "cell_type": "markdown",
   "id": "e204b2f7",
   "metadata": {},
   "source": [
    "###### Findings\n",
    "1. There is no significance difference in credit score of customers that are churing and no churning.\n",
    "2. From boxplot, we can say that customers with more age are churning more than less age. So bank needs to bring \n",
    "some good packages to keep retention rate low for elderly customers.\n",
    "3. From the boxplot, we can say that customers with less and more tenure are leaving as the range in boxplot is \n",
    "scattered for churned customers. So we need to do something new for new customers and old customers as well to retain \n",
    "those customers.\n",
    "4. Customers having more balance are churning more. So it will create lack of liquidity.\n",
    "5. There is no significance difference between estimated salary of churned and unchurned customers.\n",
    "6. There is some outliers in credit score, age, and num of products in data."
   ]
  },
  {
   "cell_type": "markdown",
   "id": "b77367b6",
   "metadata": {},
   "source": [
    "### Splitting Data"
   ]
  },
  {
   "cell_type": "code",
   "execution_count": 35,
   "id": "aad45fa2",
   "metadata": {},
   "outputs": [],
   "source": [
    "def split_bank_data(df):\n",
    "    \"\"\"This function will split the bank customer data, stratify churn,\n",
    "    Returns train, validate and test dataframes.\"\"\"\n",
    "    train_validate, test = train_test_split(df, test_size = 0.2, random_state = 123, stratify = df.exited)\n",
    "    train, validate = train_test_split(train_validate, test_size = 0.2, random_state = 123, \n",
    "                                       stratify =train_validate.exited)\n",
    "    return train, validate, test"
   ]
  },
  {
   "cell_type": "code",
   "execution_count": 36,
   "id": "b26a7440",
   "metadata": {},
   "outputs": [],
   "source": [
    "from sklearn.model_selection import train_test_split"
   ]
  },
  {
   "cell_type": "code",
   "execution_count": 37,
   "id": "4ce59e7a",
   "metadata": {},
   "outputs": [],
   "source": [
    "# spliting the data\n",
    "train, validate, test = split_bank_data(bank_df)"
   ]
  },
  {
   "cell_type": "code",
   "execution_count": 38,
   "id": "36278387",
   "metadata": {},
   "outputs": [
    {
     "name": "stdout",
     "output_type": "stream",
     "text": [
      "(6400, 11)\n",
      "(1600, 11)\n",
      "(2000, 11)\n"
     ]
    }
   ],
   "source": [
    "print(train.shape)\n",
    "print(validate.shape)\n",
    "print(test.shape)"
   ]
  },
  {
   "cell_type": "markdown",
   "id": "6e3c16a5",
   "metadata": {},
   "source": [
    "# Feature Engineering"
   ]
  },
  {
   "cell_type": "markdown",
   "id": "9ea9d5bc",
   "metadata": {},
   "source": [
    "We seek to add features that are likely to have an impact on the probabaility of churning."
   ]
  },
  {
   "cell_type": "code",
   "execution_count": 89,
   "id": "e0e26e45",
   "metadata": {},
   "outputs": [
    {
     "data": {
      "image/png": "[encoded data removed]",
      "text/plain": [
       "<Figure size 432x288 with 1 Axes>"
      ]
     },
     "metadata": {
      "needs_background": "light"
     },
     "output_type": "display_data"
    }
   ],
   "source": [
    "train[\"balance:salary\"] = train.balance/train.estimatedsalary\n",
    "sns.boxplot(y = 'balance:salary', x = 'exited', hue = 'exited', data = train)\n",
    "plt.ylim(-1, 7)\n",
    "plt.show()"
   ]
  },
  {
   "cell_type": "markdown",
   "id": "d939dcae",
   "metadata": {},
   "source": [
    "We have seen that the salary has little effect on the chance of customer churning. However as seen above, the ratio\n",
    "of the bank balance and the estimated salary indicates that customers with a higher balance salary ratio chun more\n",
    "which would be bad for business, as it will create lack of liquidity."
   ]
  },
  {
   "cell_type": "code",
   "execution_count": 91,
   "id": "e339dc01",
   "metadata": {},
   "outputs": [
    {
     "data": {
      "image/png": "[encoded data removed]",
      "text/plain": [
       "<Figure size 432x288 with 1 Axes>"
      ]
     },
     "metadata": {
      "needs_background": "light"
     },
     "output_type": "display_data"
    }
   ],
   "source": [
    "# Given that tenure is a function of age, we introduce a variable aiming to standardise tenure over age:\n",
    "train['TenureByAge'] = train.tenure/train.age\n",
    "sns.boxplot(y = 'TenureByAge', x = 'exited', hue = 'exited', data = train)\n",
    "plt.ylim(-1, 1)\n",
    "plt.show()\n"
   ]
  },
  {
   "cell_type": "code",
   "execution_count": 93,
   "id": "9239a4d8",
   "metadata": {},
   "outputs": [
    {
     "data": {
      "image/png": "[encoded data removed]",
      "text/plain": [
       "<Figure size 432x288 with 1 Axes>"
      ]
     },
     "metadata": {
      "needs_background": "light"
     },
     "output_type": "display_data"
    }
   ],
   "source": [
    "'''Lastly we introduce a varaible to capture credit score given age to take into account credit behaviour visavis \n",
    "adult life'''\n",
    "train['creditscoregivenage'] = train.creditscore/train.age\n",
    "sns.boxplot(y = 'creditscoregivenage', x = 'exited', hue = 'exited', data = train)\n",
    "plt.show()"
   ]
  },
  {
   "cell_type": "markdown",
   "id": "4166b5b2",
   "metadata": {},
   "source": [
    "### Explore"
   ]
  },
  {
   "cell_type": "markdown",
   "id": "331b3e70",
   "metadata": {},
   "source": [
    "- Is creditscore driving factor for customer churn?\n",
    "- Is geography driving factor for customer churn?\n",
    "- Is gender driving factor for customer churn?\n",
    "- Is age driving factor for customer churn?\n",
    "- Is tenure driving factor for customer churn?\n",
    "- Is active member the driving factor for customer churn?"
   ]
  },
  {
   "cell_type": "code",
   "execution_count": 94,
   "id": "a33b8eb6",
   "metadata": {},
   "outputs": [
    {
     "data": {
      "text/html": [
       "<div>\n",
       "<style scoped>\n",
       "    .dataframe tbody tr th:only-of-type {\n",
       "        vertical-align: middle;\n",
       "    }\n",
       "\n",
       "    .dataframe tbody tr th {\n",
       "        vertical-align: top;\n",
       "    }\n",
       "\n",
       "    .dataframe thead th {\n",
       "        text-align: right;\n",
       "    }\n",
       "</style>\n",
       "<table border=\"1\" class=\"dataframe\">\n",
       "  <thead>\n",
       "    <tr style=\"text-align: right;\">\n",
       "      <th></th>\n",
       "      <th>creditscore</th>\n",
       "      <th>geography</th>\n",
       "      <th>gender</th>\n",
       "      <th>age</th>\n",
       "      <th>tenure</th>\n",
       "      <th>balance</th>\n",
       "      <th>numofproducts</th>\n",
       "      <th>hascrcard</th>\n",
       "      <th>isactivemember</th>\n",
       "      <th>estimatedsalary</th>\n",
       "      <th>exited</th>\n",
       "      <th>balance:salary</th>\n",
       "      <th>TenureByAge</th>\n",
       "      <th>creditscoregivenage</th>\n",
       "    </tr>\n",
       "  </thead>\n",
       "  <tbody>\n",
       "    <tr>\n",
       "      <th>2960</th>\n",
       "      <td>778</td>\n",
       "      <td>Germany</td>\n",
       "      <td>Female</td>\n",
       "      <td>29</td>\n",
       "      <td>7</td>\n",
       "      <td>123229.46</td>\n",
       "      <td>1</td>\n",
       "      <td>1</td>\n",
       "      <td>0</td>\n",
       "      <td>181221.09</td>\n",
       "      <td>0</td>\n",
       "      <td>0.679995</td>\n",
       "      <td>0.241379</td>\n",
       "      <td>26.827586</td>\n",
       "    </tr>\n",
       "    <tr>\n",
       "      <th>5093</th>\n",
       "      <td>650</td>\n",
       "      <td>Germany</td>\n",
       "      <td>Female</td>\n",
       "      <td>55</td>\n",
       "      <td>2</td>\n",
       "      <td>140891.46</td>\n",
       "      <td>3</td>\n",
       "      <td>1</td>\n",
       "      <td>1</td>\n",
       "      <td>179834.45</td>\n",
       "      <td>1</td>\n",
       "      <td>0.783451</td>\n",
       "      <td>0.036364</td>\n",
       "      <td>11.818182</td>\n",
       "    </tr>\n",
       "    <tr>\n",
       "      <th>9730</th>\n",
       "      <td>586</td>\n",
       "      <td>Germany</td>\n",
       "      <td>Male</td>\n",
       "      <td>38</td>\n",
       "      <td>2</td>\n",
       "      <td>136858.42</td>\n",
       "      <td>1</td>\n",
       "      <td>0</td>\n",
       "      <td>1</td>\n",
       "      <td>189143.94</td>\n",
       "      <td>0</td>\n",
       "      <td>0.723568</td>\n",
       "      <td>0.052632</td>\n",
       "      <td>15.421053</td>\n",
       "    </tr>\n",
       "    <tr>\n",
       "      <th>477</th>\n",
       "      <td>611</td>\n",
       "      <td>France</td>\n",
       "      <td>Female</td>\n",
       "      <td>40</td>\n",
       "      <td>8</td>\n",
       "      <td>100812.33</td>\n",
       "      <td>2</td>\n",
       "      <td>1</td>\n",
       "      <td>0</td>\n",
       "      <td>147358.27</td>\n",
       "      <td>0</td>\n",
       "      <td>0.684131</td>\n",
       "      <td>0.200000</td>\n",
       "      <td>15.275000</td>\n",
       "    </tr>\n",
       "    <tr>\n",
       "      <th>9726</th>\n",
       "      <td>773</td>\n",
       "      <td>Spain</td>\n",
       "      <td>Male</td>\n",
       "      <td>43</td>\n",
       "      <td>7</td>\n",
       "      <td>138150.57</td>\n",
       "      <td>1</td>\n",
       "      <td>1</td>\n",
       "      <td>1</td>\n",
       "      <td>177357.16</td>\n",
       "      <td>0</td>\n",
       "      <td>0.778940</td>\n",
       "      <td>0.162791</td>\n",
       "      <td>17.976744</td>\n",
       "    </tr>\n",
       "  </tbody>\n",
       "</table>\n",
       "</div>"
      ],
      "text/plain": [
       "      creditscore geography  gender  age  tenure    balance  numofproducts  \\\n",
       "2960          778   Germany  Female   29       7  123229.46              1   \n",
       "5093          650   Germany  Female   55       2  140891.46              3   \n",
       "9730          586   Germany    Male   38       2  136858.42              1   \n",
       "477           611    France  Female   40       8  100812.33              2   \n",
       "9726          773     Spain    Male   43       7  138150.57              1   \n",
       "\n",
       "      hascrcard  isactivemember  estimatedsalary  exited  balance:salary  \\\n",
       "2960          1               0        181221.09       0        0.679995   \n",
       "5093          1               1        179834.45       1        0.783451   \n",
       "9730          0               1        189143.94       0        0.723568   \n",
       "477           1               0        147358.27       0        0.684131   \n",
       "9726          1               1        177357.16       0        0.778940   \n",
       "\n",
       "      TenureByAge  creditscoregivenage  \n",
       "2960     0.241379            26.827586  \n",
       "5093     0.036364            11.818182  \n",
       "9730     0.052632            15.421053  \n",
       "477      0.200000            15.275000  \n",
       "9726     0.162791            17.976744  "
      ]
     },
     "execution_count": 94,
     "metadata": {},
     "output_type": "execute_result"
    }
   ],
   "source": [
    "train.head()"
   ]
  },
  {
   "cell_type": "code",
   "execution_count": 95,
   "id": "246c3ff7",
   "metadata": {},
   "outputs": [
    {
     "data": {
      "text/plain": [
       "array(['Female', 'Male'], dtype=object)"
      ]
     },
     "execution_count": 95,
     "metadata": {},
     "output_type": "execute_result"
    }
   ],
   "source": [
    "train.gender.unique()"
   ]
  },
  {
   "cell_type": "code",
   "execution_count": 96,
   "id": "7fd8c5bf",
   "metadata": {},
   "outputs": [
    {
     "data": {
      "text/plain": [
       "array(['Germany', 'France', 'Spain'], dtype=object)"
      ]
     },
     "execution_count": 96,
     "metadata": {},
     "output_type": "execute_result"
    }
   ],
   "source": [
    "train.geography.unique()"
   ]
  },
  {
   "cell_type": "code",
   "execution_count": 97,
   "id": "fed70f7f",
   "metadata": {},
   "outputs": [
    {
     "data": {
      "text/plain": [
       "array([778, 650, 586, 611, 773, 635, 527, 688, 759, 640, 724, 601, 642,\n",
       "       531, 668, 711, 511, 624, 846, 513, 536, 689, 613, 554, 539, 753,\n",
       "       581, 727, 529, 680, 521, 546, 596, 833, 850, 660, 608, 705, 719,\n",
       "       747, 626, 574, 535, 589, 627, 621, 667, 588, 612, 512, 648, 522,\n",
       "       507, 567, 645, 681, 745, 728, 678, 766, 543, 652, 796, 731, 510,\n",
       "       712, 633, 544, 751, 685, 615, 675, 690, 703, 775, 631, 684, 479,\n",
       "       565, 423, 813, 597, 656, 582, 494, 556, 604, 806, 618, 520, 733,\n",
       "       564, 483, 519, 704, 477, 746, 657, 638, 808, 573, 655, 707, 602,\n",
       "       445, 461, 487, 595, 607, 486, 547, 756, 828, 437, 677, 497, 616,\n",
       "       709, 706, 623, 671, 793, 723, 630, 443, 754, 471, 669, 734, 698,\n",
       "       501, 576, 696, 683, 739, 560, 687, 639, 767, 628, 718, 530, 619,\n",
       "       641, 729, 716, 598, 614, 737, 637, 661, 651, 715, 770, 620, 603,\n",
       "       413, 682, 665, 562, 834, 752, 782, 592, 568, 579, 702, 805, 744,\n",
       "       662, 585, 460, 720, 462, 697, 700, 721, 557, 769, 763, 591, 750,\n",
       "       816, 533, 646, 649, 583, 610, 785, 587, 590, 765, 625, 673, 779,\n",
       "       575, 742, 472, 663, 743, 781, 694, 644, 764, 664, 842, 499, 617,\n",
       "       545, 790, 609, 789, 799, 670, 558, 726, 606, 475, 504, 748, 654,\n",
       "       647, 548, 622, 405, 798, 710, 757, 432, 740, 490, 829, 679, 676,\n",
       "       636, 496, 563, 584, 503, 550, 791, 594, 674, 826, 777, 578, 634,\n",
       "       795, 783, 803, 572, 762, 713, 730, 559, 701, 815, 666, 837, 695,\n",
       "       514, 658, 632, 470, 741, 732, 807, 735, 811, 523, 686, 786, 643,\n",
       "       524, 476, 516, 845, 425, 515, 693, 714, 553, 659, 551, 736, 580,\n",
       "       792, 453, 760, 469, 605, 692, 768, 771, 600, 758, 552, 717, 599,\n",
       "       430, 776, 653, 812, 465, 691, 819, 549, 774, 835, 749, 722, 593,\n",
       "       788, 484, 738, 434, 699, 809, 800, 814, 537, 518, 439, 525, 500,\n",
       "       482, 493, 772, 629, 725, 561, 528, 538, 431, 435, 569, 463, 540,\n",
       "       376, 761, 498, 517, 418, 825, 755, 534, 459, 672, 526, 541, 505,\n",
       "       817, 468, 797, 478, 491, 802, 784, 824, 571, 822, 577, 488, 452,\n",
       "       708, 780, 426, 794, 555, 542, 410, 532, 436, 509, 422, 821, 508,\n",
       "       830, 457, 506, 447, 810, 823, 474, 495, 849, 489, 502, 363, 420,\n",
       "       449, 395, 485, 492, 419, 433, 464, 481, 438, 804, 838, 473, 832,\n",
       "       570, 399, 458, 566, 787, 480, 412, 440, 831, 365, 466, 820, 801,\n",
       "       441, 844, 840, 444, 467, 836, 847, 367, 827, 843, 407, 451, 818,\n",
       "       450, 401, 841, 446, 350, 456, 415, 359, 417, 427, 442, 839, 428,\n",
       "       421, 408, 448, 455, 351, 411, 383, 848, 454, 429, 416])"
      ]
     },
     "execution_count": 97,
     "metadata": {},
     "output_type": "execute_result"
    }
   ],
   "source": [
    "train.creditscore.unique()"
   ]
  },
  {
   "cell_type": "code",
   "execution_count": 98,
   "id": "0649cc69",
   "metadata": {},
   "outputs": [
    {
     "data": {
      "text/plain": [
       "array([29, 55, 38, 40, 43, 37, 39, 26, 31, 33, 34, 35, 32, 69, 52, 23, 45,\n",
       "       27, 54, 36, 51, 25, 30, 28, 92, 44, 50, 24, 46, 70, 48, 63, 59, 67,\n",
       "       65, 64, 42, 41, 75, 47, 56, 62, 49, 19, 18, 58, 72, 22, 61, 53, 77,\n",
       "       66, 60, 21, 57, 20, 71, 68, 80, 79, 74, 88, 76, 73, 78, 81, 84, 83,\n",
       "       82])"
      ]
     },
     "execution_count": 98,
     "metadata": {},
     "output_type": "execute_result"
    }
   ],
   "source": [
    "train.age.unique()"
   ]
  },
  {
   "cell_type": "code",
   "execution_count": 99,
   "id": "0c75baf3",
   "metadata": {},
   "outputs": [
    {
     "data": {
      "text/plain": [
       "array([ 7,  2,  8,  3,  9,  0,  4,  1,  6,  5, 10])"
      ]
     },
     "execution_count": 99,
     "metadata": {},
     "output_type": "execute_result"
    }
   ],
   "source": [
    "train.tenure.unique()"
   ]
  },
  {
   "cell_type": "code",
   "execution_count": 100,
   "id": "1da3858e",
   "metadata": {},
   "outputs": [
    {
     "data": {
      "text/plain": [
       "array([1, 0])"
      ]
     },
     "execution_count": 100,
     "metadata": {},
     "output_type": "execute_result"
    }
   ],
   "source": [
    "train.hascrcard.unique()"
   ]
  },
  {
   "cell_type": "code",
   "execution_count": 101,
   "id": "94e6b931",
   "metadata": {},
   "outputs": [
    {
     "data": {
      "text/plain": [
       "array([1, 3, 2, 4])"
      ]
     },
     "execution_count": 101,
     "metadata": {},
     "output_type": "execute_result"
    }
   ],
   "source": [
    "train.numofproducts.unique()"
   ]
  },
  {
   "cell_type": "code",
   "execution_count": 102,
   "id": "e0e29327",
   "metadata": {},
   "outputs": [
    {
     "data": {
      "text/plain": [
       "array([0, 1])"
      ]
     },
     "execution_count": 102,
     "metadata": {},
     "output_type": "execute_result"
    }
   ],
   "source": [
    "train.isactivemember.unique()"
   ]
  },
  {
   "cell_type": "code",
   "execution_count": 103,
   "id": "3625f1a3",
   "metadata": {},
   "outputs": [
    {
     "data": {
      "text/plain": [
       "array([181221.09, 179834.45, 189143.94, ...,  91167.19,   9209.21,\n",
       "        15470.91])"
      ]
     },
     "execution_count": 103,
     "metadata": {},
     "output_type": "execute_result"
    }
   ],
   "source": [
    "train.estimatedsalary.unique()"
   ]
  },
  {
   "cell_type": "code",
   "execution_count": 104,
   "id": "2e96dd58",
   "metadata": {},
   "outputs": [
    {
     "data": {
      "text/plain": [
       "array([123229.46, 140891.46, 136858.42, ..., 138341.51, 118448.15,\n",
       "       105957.44])"
      ]
     },
     "execution_count": 104,
     "metadata": {},
     "output_type": "execute_result"
    }
   ],
   "source": [
    "train.balance.unique()"
   ]
  },
  {
   "cell_type": "code",
   "execution_count": 105,
   "id": "865db7d7",
   "metadata": {},
   "outputs": [
    {
     "data": {
      "text/html": [
       "<div>\n",
       "<style scoped>\n",
       "    .dataframe tbody tr th:only-of-type {\n",
       "        vertical-align: middle;\n",
       "    }\n",
       "\n",
       "    .dataframe tbody tr th {\n",
       "        vertical-align: top;\n",
       "    }\n",
       "\n",
       "    .dataframe thead th {\n",
       "        text-align: right;\n",
       "    }\n",
       "</style>\n",
       "<table border=\"1\" class=\"dataframe\">\n",
       "  <thead>\n",
       "    <tr style=\"text-align: right;\">\n",
       "      <th></th>\n",
       "      <th>creditscore</th>\n",
       "      <th>geography</th>\n",
       "      <th>gender</th>\n",
       "      <th>age</th>\n",
       "      <th>tenure</th>\n",
       "      <th>balance</th>\n",
       "      <th>numofproducts</th>\n",
       "      <th>hascrcard</th>\n",
       "      <th>isactivemember</th>\n",
       "      <th>estimatedsalary</th>\n",
       "      <th>exited</th>\n",
       "      <th>balance:salary</th>\n",
       "      <th>TenureByAge</th>\n",
       "      <th>creditscoregivenage</th>\n",
       "    </tr>\n",
       "  </thead>\n",
       "  <tbody>\n",
       "    <tr>\n",
       "      <th>2960</th>\n",
       "      <td>778</td>\n",
       "      <td>Germany</td>\n",
       "      <td>Female</td>\n",
       "      <td>29</td>\n",
       "      <td>7</td>\n",
       "      <td>123229.46</td>\n",
       "      <td>1</td>\n",
       "      <td>1</td>\n",
       "      <td>0</td>\n",
       "      <td>181221.09</td>\n",
       "      <td>0</td>\n",
       "      <td>0.679995</td>\n",
       "      <td>0.241379</td>\n",
       "      <td>26.827586</td>\n",
       "    </tr>\n",
       "    <tr>\n",
       "      <th>5093</th>\n",
       "      <td>650</td>\n",
       "      <td>Germany</td>\n",
       "      <td>Female</td>\n",
       "      <td>55</td>\n",
       "      <td>2</td>\n",
       "      <td>140891.46</td>\n",
       "      <td>3</td>\n",
       "      <td>1</td>\n",
       "      <td>1</td>\n",
       "      <td>179834.45</td>\n",
       "      <td>1</td>\n",
       "      <td>0.783451</td>\n",
       "      <td>0.036364</td>\n",
       "      <td>11.818182</td>\n",
       "    </tr>\n",
       "    <tr>\n",
       "      <th>9730</th>\n",
       "      <td>586</td>\n",
       "      <td>Germany</td>\n",
       "      <td>Male</td>\n",
       "      <td>38</td>\n",
       "      <td>2</td>\n",
       "      <td>136858.42</td>\n",
       "      <td>1</td>\n",
       "      <td>0</td>\n",
       "      <td>1</td>\n",
       "      <td>189143.94</td>\n",
       "      <td>0</td>\n",
       "      <td>0.723568</td>\n",
       "      <td>0.052632</td>\n",
       "      <td>15.421053</td>\n",
       "    </tr>\n",
       "    <tr>\n",
       "      <th>477</th>\n",
       "      <td>611</td>\n",
       "      <td>France</td>\n",
       "      <td>Female</td>\n",
       "      <td>40</td>\n",
       "      <td>8</td>\n",
       "      <td>100812.33</td>\n",
       "      <td>2</td>\n",
       "      <td>1</td>\n",
       "      <td>0</td>\n",
       "      <td>147358.27</td>\n",
       "      <td>0</td>\n",
       "      <td>0.684131</td>\n",
       "      <td>0.200000</td>\n",
       "      <td>15.275000</td>\n",
       "    </tr>\n",
       "    <tr>\n",
       "      <th>9726</th>\n",
       "      <td>773</td>\n",
       "      <td>Spain</td>\n",
       "      <td>Male</td>\n",
       "      <td>43</td>\n",
       "      <td>7</td>\n",
       "      <td>138150.57</td>\n",
       "      <td>1</td>\n",
       "      <td>1</td>\n",
       "      <td>1</td>\n",
       "      <td>177357.16</td>\n",
       "      <td>0</td>\n",
       "      <td>0.778940</td>\n",
       "      <td>0.162791</td>\n",
       "      <td>17.976744</td>\n",
       "    </tr>\n",
       "  </tbody>\n",
       "</table>\n",
       "</div>"
      ],
      "text/plain": [
       "      creditscore geography  gender  age  tenure    balance  numofproducts  \\\n",
       "2960          778   Germany  Female   29       7  123229.46              1   \n",
       "5093          650   Germany  Female   55       2  140891.46              3   \n",
       "9730          586   Germany    Male   38       2  136858.42              1   \n",
       "477           611    France  Female   40       8  100812.33              2   \n",
       "9726          773     Spain    Male   43       7  138150.57              1   \n",
       "\n",
       "      hascrcard  isactivemember  estimatedsalary  exited  balance:salary  \\\n",
       "2960          1               0        181221.09       0        0.679995   \n",
       "5093          1               1        179834.45       1        0.783451   \n",
       "9730          0               1        189143.94       0        0.723568   \n",
       "477           1               0        147358.27       0        0.684131   \n",
       "9726          1               1        177357.16       0        0.778940   \n",
       "\n",
       "      TenureByAge  creditscoregivenage  \n",
       "2960     0.241379            26.827586  \n",
       "5093     0.036364            11.818182  \n",
       "9730     0.052632            15.421053  \n",
       "477      0.200000            15.275000  \n",
       "9726     0.162791            17.976744  "
      ]
     },
     "execution_count": 105,
     "metadata": {},
     "output_type": "execute_result"
    }
   ],
   "source": [
    "train.head()"
   ]
  },
  {
   "cell_type": "code",
   "execution_count": 106,
   "id": "044934a9",
   "metadata": {},
   "outputs": [],
   "source": [
    "col = ['creditscore', 'geography', 'gender', 'age', 'tenure', 'balance', 'numofproducts', 'hascrcard', 'isactivemember', 'estimatedsalary', 'exited']"
   ]
  },
  {
   "cell_type": "code",
   "execution_count": 107,
   "id": "64cd2fa5",
   "metadata": {},
   "outputs": [
    {
     "name": "stdout",
     "output_type": "stream",
     "text": [
      "creditscore\n",
      "geography\n",
      "gender\n",
      "age\n",
      "tenure\n",
      "balance\n",
      "numofproducts\n",
      "hascrcard\n",
      "isactivemember\n",
      "estimatedsalary\n",
      "exited\n"
     ]
    }
   ],
   "source": [
    "for item in col:\n",
    "    print(item)"
   ]
  },
  {
   "cell_type": "markdown",
   "id": "2b1538a3",
   "metadata": {},
   "source": [
    "### TBA"
   ]
  },
  {
   "cell_type": "markdown",
   "id": "1994fa90",
   "metadata": {},
   "source": [
    "### Is creditscore driving factor for customer churn?"
   ]
  },
  {
   "cell_type": "code",
   "execution_count": 109,
   "id": "6d5d6b40",
   "metadata": {},
   "outputs": [
    {
     "data": {
      "text/plain": [
       "<AxesSubplot:xlabel='creditscore', ylabel='count'>"
      ]
     },
     "execution_count": 109,
     "metadata": {},
     "output_type": "execute_result"
    },
    {
     "data": {
      "image/png": "[encoded data removed]",
      "text/plain": [
       "<Figure size 432x288 with 1 Axes>"
      ]
     },
     "metadata": {
      "needs_background": "light"
     },
     "output_type": "display_data"
    }
   ],
   "source": [
    "# Visualizing exited in training data set\n",
    "sns.countplot(x = 'creditscore', hue = 'exited', data = train)"
   ]
  },
  {
   "cell_type": "code",
   "execution_count": 110,
   "id": "bdbb5754",
   "metadata": {},
   "outputs": [
    {
     "data": {
      "text/plain": [
       "<AxesSubplot:xlabel='exited', ylabel='count'>"
      ]
     },
     "execution_count": 110,
     "metadata": {},
     "output_type": "execute_result"
    },
    {
     "data": {
      "image/png": "[encoded data removed]",
      "text/plain": [
       "<Figure size 432x288 with 1 Axes>"
      ]
     },
     "metadata": {
      "needs_background": "light"
     },
     "output_type": "display_data"
    }
   ],
   "source": [
    "# Visualizing exited in training data set\n",
    "sns.countplot(y = train['exited'])"
   ]
  },
  {
   "cell_type": "code",
   "execution_count": 113,
   "id": "041e9158",
   "metadata": {},
   "outputs": [
    {
     "data": {
      "image/png": "[encoded data removed]",
      "text/plain": [
       "<Figure size 432x288 with 1 Axes>"
      ]
     },
     "metadata": {
      "needs_background": "light"
     },
     "output_type": "display_data"
    }
   ],
   "source": [
    "sns.boxplot(y = 'creditscore', x = 'exited', hue = 'exited', data = train)\n",
    "plt.show()"
   ]
  },
  {
   "cell_type": "markdown",
   "id": "0b36339a",
   "metadata": {},
   "source": [
    "We can run statistical test to check if there is difference of credit score between churn and unchurned customers."
   ]
  },
  {
   "cell_type": "markdown",
   "id": "c767660c",
   "metadata": {},
   "source": [
    "###### Is geography driving factor for customer churn?"
   ]
  },
  {
   "cell_type": "code",
   "execution_count": 114,
   "id": "e80b37b3",
   "metadata": {},
   "outputs": [
    {
     "data": {
      "text/plain": [
       "<AxesSubplot:xlabel='geography', ylabel='count'>"
      ]
     },
     "execution_count": 114,
     "metadata": {},
     "output_type": "execute_result"
    },
    {
     "data": {
      "image/png": "[encoded data removed]",
      "text/plain": [
       "<Figure size 432x288 with 1 Axes>"
      ]
     },
     "metadata": {
      "needs_background": "light"
     },
     "output_type": "display_data"
    }
   ],
   "source": [
    "# visualize the churn count based on geography in training dataset\n",
    "sns.countplot(x = 'geography', hue = 'exited', data = train)"
   ]
  },
  {
   "cell_type": "markdown",
   "id": "abeb71d6",
   "metadata": {},
   "source": [
    "### Is gender driving factor for customer churn?"
   ]
  },
  {
   "cell_type": "code",
   "execution_count": 117,
   "id": "e029e0b3",
   "metadata": {},
   "outputs": [
    {
     "data": {
      "text/plain": [
       "<AxesSubplot:xlabel='gender', ylabel='count'>"
      ]
     },
     "execution_count": 117,
     "metadata": {},
     "output_type": "execute_result"
    },
    {
     "data": {
      "image/png": "[encoded data removed]",
      "text/plain": [
       "<Figure size 432x288 with 1 Axes>"
      ]
     },
     "metadata": {
      "needs_background": "light"
     },
     "output_type": "display_data"
    }
   ],
   "source": [
    "# visualize the churn count based on geography in training dataset\n",
    "sns.countplot(x = 'gender', hue = 'exited', data = train)"
   ]
  },
  {
   "cell_type": "markdown",
   "id": "310c8d7a",
   "metadata": {},
   "source": [
    "### Is age driving factor for customer churn?"
   ]
  },
  {
   "cell_type": "code",
   "execution_count": 119,
   "id": "955f2ed7",
   "metadata": {},
   "outputs": [
    {
     "data": {
      "text/plain": [
       "<AxesSubplot:xlabel='age', ylabel='count'>"
      ]
     },
     "execution_count": 119,
     "metadata": {},
     "output_type": "execute_result"
    },
    {
     "data": {
      "image/png": "[encoded data removed]",
      "text/plain": [
       "<Figure size 432x288 with 1 Axes>"
      ]
     },
     "metadata": {
      "needs_background": "light"
     },
     "output_type": "display_data"
    }
   ],
   "source": [
    "# visualize the churn count based on age in training dataset\n",
    "sns.countplot(x = 'age', hue = 'exited', data = train)"
   ]
  },
  {
   "cell_type": "code",
   "execution_count": 120,
   "id": "efefe585",
   "metadata": {},
   "outputs": [
    {
     "data": {
      "text/plain": [
       "<AxesSubplot:xlabel='exited', ylabel='age'>"
      ]
     },
     "execution_count": 120,
     "metadata": {},
     "output_type": "execute_result"
    },
    {
     "data": {
      "image/png": "[encoded data removed]",
      "text/plain": [
       "<Figure size 432x288 with 1 Axes>"
      ]
     },
     "metadata": {
      "needs_background": "light"
     },
     "output_type": "display_data"
    }
   ],
   "source": [
    "# creating a boxplot of age to see difference in churn by ages\n",
    "sns.boxplot(y = 'age', x = 'exited', hue = 'exited', data = train)"
   ]
  },
  {
   "cell_type": "markdown",
   "id": "4e2f6565",
   "metadata": {},
   "source": [
    "Elderly population are churning more than younger counter part."
   ]
  },
  {
   "cell_type": "markdown",
   "id": "2373147d",
   "metadata": {},
   "source": [
    "### Is tenure driving factor for customer churn?"
   ]
  },
  {
   "cell_type": "code",
   "execution_count": 122,
   "id": "71b5105a",
   "metadata": {},
   "outputs": [
    {
     "data": {
      "image/png": "[encoded data removed]",
      "text/plain": [
       "<Figure size 432x288 with 1 Axes>"
      ]
     },
     "metadata": {
      "needs_background": "light"
     },
     "output_type": "display_data"
    }
   ],
   "source": [
    "# visualize the churn count based on tenure in training dataset\n",
    "sns.countplot(x = 'tenure', hue = 'exited', data = train)\n",
    "plt.show()"
   ]
  },
  {
   "cell_type": "code",
   "execution_count": 124,
   "id": "3ad4029b",
   "metadata": {},
   "outputs": [
    {
     "data": {
      "text/plain": [
       "<AxesSubplot:xlabel='exited', ylabel='tenure'>"
      ]
     },
     "execution_count": 124,
     "metadata": {},
     "output_type": "execute_result"
    },
    {
     "data": {
      "image/png": "[encoded data removed]",
      "text/plain": [
       "<Figure size 432x288 with 1 Axes>"
      ]
     },
     "metadata": {
      "needs_background": "light"
     },
     "output_type": "display_data"
    }
   ],
   "source": [
    "sns.boxplot(y = 'tenure', x = 'exited', hue = 'exited', data = train)"
   ]
  },
  {
   "cell_type": "markdown",
   "id": "2284fc17",
   "metadata": {},
   "source": [
    "### Is active member the driving factor for customer churn?"
   ]
  },
  {
   "cell_type": "code",
   "execution_count": null,
   "id": "3ef602d2",
   "metadata": {},
   "outputs": [],
   "source": [
    "# visualize the churn count based on active member in training dataset\n",
    "sns.countplot(x = 'isactivemember', hue = 'exited', data = train)"
   ]
  },
  {
   "cell_type": "markdown",
   "id": "b60398b8",
   "metadata": {},
   "source": [
    "###  Do customers having credit card have more churn than one without credit card?"
   ]
  },
  {
   "cell_type": "code",
   "execution_count": null,
   "id": "d0612cce",
   "metadata": {},
   "outputs": [],
   "source": [
    "sns.countplot(x = 'hascrcard', hue = 'exited', data = train)"
   ]
  },
  {
   "cell_type": "markdown",
   "id": "064d0176",
   "metadata": {},
   "source": [
    "#### Churn rate of customers by numbr of products?"
   ]
  },
  {
   "cell_type": "code",
   "execution_count": null,
   "id": "430b4cc5",
   "metadata": {},
   "outputs": [],
   "source": [
    "sns.countplot(x = 'numofproducts', hue = 'exited', data = train)"
   ]
  },
  {
   "cell_type": "code",
   "execution_count": null,
   "id": "bd1dc083",
   "metadata": {},
   "outputs": [],
   "source": [
    "train.head(1)"
   ]
  },
  {
   "cell_type": "markdown",
   "id": "560986f3",
   "metadata": {},
   "source": [
    "### Does average credit score changes for customers varies with exited vs non exited\n"
   ]
  },
  {
   "cell_type": "code",
   "execution_count": null,
   "id": "eb382236",
   "metadata": {},
   "outputs": [],
   "source": [
    "sns.boxplot(y = 'creditscore', x = 'exited', data = train)"
   ]
  },
  {
   "cell_type": "markdown",
   "id": "e362f3b6",
   "metadata": {},
   "source": [
    "### Does balance for customers varies with exited vs non exited"
   ]
  },
  {
   "cell_type": "code",
   "execution_count": null,
   "id": "b55ee7e9",
   "metadata": {},
   "outputs": [],
   "source": [
    "sns.boxplot(y = 'balance', x = 'exited', data = train)"
   ]
  },
  {
   "cell_type": "markdown",
   "id": "b0b31f1d",
   "metadata": {},
   "source": [
    "### Does estimated salary for customers varies with exited vs non exited"
   ]
  },
  {
   "cell_type": "code",
   "execution_count": null,
   "id": "a6d22039",
   "metadata": {},
   "outputs": [],
   "source": [
    "sns.boxplot(y = 'estimatedsalary', x ='exited', data = train)"
   ]
  },
  {
   "cell_type": "markdown",
   "id": "c91ca84b",
   "metadata": {},
   "source": [
    "### Is there difference between the average age of customers that exited and non exited?"
   ]
  },
  {
   "cell_type": "code",
   "execution_count": null,
   "id": "fed86e6c",
   "metadata": {},
   "outputs": [],
   "source": [
    "sns.boxplot(y = 'age', x = 'exited', data = train)"
   ]
  },
  {
   "cell_type": "markdown",
   "id": "2bde58f5",
   "metadata": {},
   "source": [
    "# Histogram for exited vs non-exited with other parameters or variables"
   ]
  },
  {
   "cell_type": "markdown",
   "id": "1b1a68d4",
   "metadata": {},
   "source": [
    "### creditscore"
   ]
  },
  {
   "cell_type": "code",
   "execution_count": null,
   "id": "da73d257",
   "metadata": {},
   "outputs": [],
   "source": [
    "sns.histplot(x ='creditscore', hue = 'exited', data = train)"
   ]
  },
  {
   "cell_type": "markdown",
   "id": "189ab97f",
   "metadata": {},
   "source": [
    "### age"
   ]
  },
  {
   "cell_type": "code",
   "execution_count": null,
   "id": "3bb225d9",
   "metadata": {},
   "outputs": [],
   "source": [
    "plt.figure(figsize = (11, 7))\n",
    "sns.histplot(x = 'age', hue = 'exited', data = train)"
   ]
  },
  {
   "cell_type": "markdown",
   "id": "44bb0d63",
   "metadata": {},
   "source": [
    "### tenure"
   ]
  },
  {
   "cell_type": "code",
   "execution_count": null,
   "id": "1bdc6701",
   "metadata": {},
   "outputs": [],
   "source": [
    "plt.figure(figsize = (11, 7))\n",
    "sns.histplot(x = 'tenure', hue = 'exited', data = train)"
   ]
  },
  {
   "cell_type": "code",
   "execution_count": null,
   "id": "6128066d",
   "metadata": {},
   "outputs": [],
   "source": [
    "### balance"
   ]
  },
  {
   "cell_type": "code",
   "execution_count": null,
   "id": "8ee02c9e",
   "metadata": {},
   "outputs": [],
   "source": []
  }
 ],
 "metadata": {
  "kernelspec": {
   "display_name": "Python 3 (ipykernel)",
   "language": "python",
   "name": "python3"
  },
  "language_info": {
   "codemirror_mode": {
    "name": "ipython",
    "version": 3
   },
   "file_extension": ".py",
   "mimetype": "text/x-python",
   "name": "python",
   "nbconvert_exporter": "python",
   "pygments_lexer": "ipython3",
   "version": "3.8.8"
  }
 },
 "nbformat": 4,
 "nbformat_minor": 5
}
